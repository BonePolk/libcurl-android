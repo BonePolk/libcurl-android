{
  "nbformat": 4,
  "nbformat_minor": 0,
  "metadata": {
    "colab": {
      "provenance": [],
      "authorship_tag": "ABX9TyMfZLyKNqnKsD9oxgZ1yX9f",
      "include_colab_link": true
    },
    "kernelspec": {
      "name": "python3",
      "display_name": "Python 3"
    },
    "language_info": {
      "name": "python"
    }
  },
  "cells": [
    {
      "cell_type": "markdown",
      "metadata": {
        "id": "view-in-github",
        "colab_type": "text"
      },
      "source": [
        "<a href=\"https://colab.research.google.com/github/BonePolk/libcurl-android/blob/main.py/GoogleColab.ipynb\" target=\"_parent\"><img src=\"https://colab.research.google.com/assets/colab-badge.svg\" alt=\"Open In Colab\"/></a>"
      ]
    },
    {
      "cell_type": "code",
      "source": [
        "!git clone git://git.openssl.org/openssl.git"
      ],
      "metadata": {
        "id": "3wlREXddZJz4"
      },
      "execution_count": null,
      "outputs": []
    },
    {
      "cell_type": "code",
      "source": [
        "!curl https://dl.google.com/android/repository/android-ndk-r22b-linux-x86_64.zip --output ndk.zip\n",
        "!unzip ndk.zip"
      ],
      "metadata": {
        "id": "AVff7KUD1I-K"
      },
      "execution_count": null,
      "outputs": []
    },
    {
      "cell_type": "code",
      "source": [
        "!export ANDROID_NDK_ROOT=/content/android-ndk-r22b && \\\n",
        "export PATH=/content/android-ndk-r22b/toolchains/llvm/prebuilt/linux-x86_64/bin:/content/android-ndk-r22b/toolchains/arm-linux-androideabi-4.9/prebuilt/linux-x86_64/bin:$PATH && \\\n",
        "cd openssl && ./Configure android-arm --prefix=/content/build/ssl/arm --openssldir=/content/build/ssl/arm -D__ANDROID_API__=21"
      ],
      "metadata": {
        "id": "9K_bE7DKZ3Lc"
      },
      "execution_count": null,
      "outputs": []
    },
    {
      "cell_type": "code",
      "source": [
        "!!export ANDROID_NDK_ROOT=/content/android-ndk-r22b && \\\n",
        "export PATH=/content/android-ndk-r22b/toolchains/llvm/prebuilt/linux-x86_64/bin:$PATH && \\\n",
        "cd openssl && make"
      ],
      "metadata": {
        "id": "tWxdKE3-bdIT"
      },
      "execution_count": null,
      "outputs": []
    }
  ]
}