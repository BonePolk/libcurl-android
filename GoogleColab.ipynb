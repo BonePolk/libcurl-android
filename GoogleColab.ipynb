{
  "nbformat": 4,
  "nbformat_minor": 0,
  "metadata": {
    "colab": {
      "provenance": [],
      "authorship_tag": "ABX9TyMOEiB8tdoY53Ov0FfRkIyK",
      "include_colab_link": true
    },
    "kernelspec": {
      "name": "python3",
      "display_name": "Python 3"
    },
    "language_info": {
      "name": "python"
    }
  },
  "cells": [
    {
      "cell_type": "markdown",
      "metadata": {
        "id": "view-in-github",
        "colab_type": "text"
      },
      "source": [
        "<a href=\"https://colab.research.google.com/github/BonePolk/libcurl-android/blob/main.py/GoogleColab.ipynb\" target=\"_parent\"><img src=\"https://colab.research.google.com/assets/colab-badge.svg\" alt=\"Open In Colab\"/></a>"
      ]
    },
    {
      "cell_type": "markdown",
      "source": [
        "#Building\n"
      ],
      "metadata": {
        "id": "LiqFHrrX01bT"
      }
    },
    {
      "cell_type": "markdown",
      "source": [
        "Downloading openssl zlib curl"
      ],
      "metadata": {
        "id": "il8Z0XI02DX7"
      }
    },
    {
      "cell_type": "code",
      "source": [
        "!git clone git://git.openssl.org/openssl.git\n",
        "!git clone --branch v1.2.13  https://github.com/madler/zlib.git\n",
        "!git clone https://github.com/curl/curl.git\n",
        "!mkdir build"
      ],
      "metadata": {
        "id": "dpeC14bu092s"
      },
      "execution_count": null,
      "outputs": []
    },
    {
      "cell_type": "markdown",
      "source": [
        "Downloading ndk r22b"
      ],
      "metadata": {
        "id": "OiWb4vUm2YtS"
      }
    },
    {
      "cell_type": "code",
      "source": [
        "!curl https://dl.google.com/android/repository/android-ndk-r22b-linux-x86_64.zip --output ndk.zip\n",
        "!unzip ndk.zip"
      ],
      "metadata": {
        "id": "zys3yRi91mOC"
      },
      "execution_count": null,
      "outputs": []
    },
    {
      "cell_type": "markdown",
      "source": [
        "Configuring openssl"
      ],
      "metadata": {
        "id": "9vb5uF3M2iQq"
      }
    },
    {
      "cell_type": "code",
      "source": [
        "!mkdir build/ssl && mkdir/ssl/arm && \\\n",
        "export ANDROID_NDK_ROOT=/content/android-ndk-r22b && \\\n",
        "export PATH=/content/android-ndk-r22b/toolchains/llvm/prebuilt/linux-x86_64/bin:/content/android-ndk-r22b/toolchains/arm-linux-androideabi-4.9/prebuilt/linux-x86_64/bin:$PATH && \\\n",
        "cd openssl && ./Configure android-arm --prefix=/content/build/ssl/arm --openssldir=/content/build/ssl/arm -D__ANDROID_API__=21"
      ],
      "metadata": {
        "id": "HZk8C5Vy2h5c"
      },
      "execution_count": null,
      "outputs": []
    },
    {
      "cell_type": "markdown",
      "source": [
        "Building openssl"
      ],
      "metadata": {
        "id": "Wdl-C09q2uMC"
      }
    },
    {
      "cell_type": "code",
      "source": [
        "!export ANDROID_NDK_ROOT=/content/android-ndk-r22b && \\\n",
        "export PATH=/content/android-ndk-r22b/toolchains/llvm/prebuilt/linux-x86_64/bin:$PATH && \\\n",
        "cd openssl && make && make clean && make -j4 depend && make -j4 all && make install"
      ],
      "metadata": {
        "id": "7MbfoBV12s5i"
      },
      "execution_count": null,
      "outputs": []
    },
    {
      "cell_type": "markdown",
      "source": [
        "Configuring zlib"
      ],
      "metadata": {
        "id": "aEwkGeVx4r1G"
      }
    },
    {
      "cell_type": "code",
      "source": [
        "!sed 's/case \\\"$uname\\\" in/case \"_\" in/' zlib/configure >zlib/configure.temp\n",
        "!mv zlib/configure.temp zlib/configure\n",
        "!chmod 777 zlib/configure\n",
        "!export API=21 && \\\n",
        "export CC=/content/android-ndk-r22b/toolchains/llvm/prebuilt/linux-x86_64/bin/armv7a-linux-androideabi21-clang && \\\n",
        "export AS=$CC && \\\n",
        "export AR=/content/android-ndk-r22b/toolchains/llvm/prebuilt/linux-x86_64/bin/llvm-ar && \\\n",
        "export LD=/content/android-ndk-r22b/toolchains/llvm/prebuilt/linux-x86_64/bin/ld && \\\n",
        "export RANLIB=/content/android-ndk-r22b/toolchains/llvm/prebuilt/linux-x86_64/bin/llvm-ranlib && \\\n",
        "export STRIP=/content/android-ndk-r22b/toolchains/llvm/prebuilt/linux-x86_64/bin/llvm-strip && \\\n",
        "export CFLAGS=\"-I/content/android-ndk-r22b/toolchains/llvm/prebuilt/$host-x86_64/sysroot/usr/include --sysroot=/content/android-ndk-r22b/toolchains/llvm/prebuilt/$host-x86_64/sysroot -march=armv7-a -mfloat-abi=softfp -mfpu=neon -fPIC\" && \\\n",
        "export CROSS_PREFIX=\"/content/android-ndk-r22b/toolchains/llvm/prebuilt/linux-x86_64/bin/armv7a-linux-androideabi-\" && \\\n",
        "cd zlib && ./configure --prefix=build/zlib/arm"
      ],
      "metadata": {
        "colab": {
          "base_uri": "https://localhost:8080/"
        },
        "id": "8twx0Bzj4rsy",
        "outputId": "5453f550-543e-4d04-c720-6b17fe925560"
      },
      "execution_count": null,
      "outputs": [
        {
          "output_type": "stream",
          "name": "stdout",
          "text": [
            "Using /content/android-ndk-r22b/toolchains/llvm/prebuilt/linux-x86_64/bin/llvm-ar\n",
            "Checking for shared library support...\n",
            "No shared library support; try without defining CC and CFLAGS\n",
            "Building static library libz.a version 1.2.13 with /content/android-ndk-r22b/toolchains/llvm/prebuilt/linux-x86_64/bin/armv7a-linux-androideabi21-clang.\n",
            "Checking for size_t... No.\n",
            "Checking for long long... Yes.\n",
            "Checking for a pointer-size integer type... not found.\n",
            "Checking for off64_t... No.\n",
            "Checking for fseeko... No.\n",
            "Checking for strerror... No.\n",
            "Checking for unistd.h... No.\n",
            "Checking for stdarg.h... Yes.\n",
            "Checking whether to use vs[n]printf() or s[n]printf()... using s[n]printf().\n",
            "Checking for snprintf() in stdio.h... No.\n",
            "  WARNING: snprintf() not found, falling back to sprintf(). zlib\n",
            "  can build but will be open to possible buffer-overflow security\n",
            "  vulnerabilities.\n",
            "Checking for return value of sprintf()... No.\n",
            "  WARNING: apparently sprintf() does not return a value. zlib\n",
            "  can build but will be open to possible string-format security\n",
            "  vulnerabilities.\n",
            "Checking for attribute(visibility) support... Yes.\n"
          ]
        }
      ]
    },
    {
      "cell_type": "markdown",
      "source": [
        "Building zlib"
      ],
      "metadata": {
        "id": "WybWR8-94rjm"
      }
    },
    {
      "cell_type": "code",
      "source": [
        "!export API=21 && \\\n",
        "export CC=/content/android-ndk-r22b/toolchains/llvm/prebuilt/linux-x86_64/bin/armv7a-linux-androideabi21-clang && \\\n",
        "export AS=$CC && \\\n",
        "export AR=/content/android-ndk-r22b/toolchains/llvm/prebuilt/linux-x86_64/bin/llvm-ar && \\\n",
        "export LD=/content/android-ndk-r22b/toolchains/llvm/prebuilt/linux-x86_64/bin/ld && \\\n",
        "export RANLIB=/content/android-ndk-r22b/toolchains/llvm/prebuilt/linux-x86_64/bin/llvm-ranlib && \\\n",
        "export STRIP=/content/android-ndk-r22b/toolchains/llvm/prebuilt/linux-x86_64/bin/llvm-strip && \\\n",
        "export CFLAGS=\"-I/content/android-ndk-r22b/toolchains/llvm/prebuilt/$host-x86_64/sysroot/usr/include --sysroot=/content/android-ndk-r22b/toolchains/llvm/prebuilt/$host-x86_64/sysroot -march=armv7-a -mfloat-abi=softfp -mfpu=neon -fPIC\" && \\\n",
        "export CROSS_PREFIX=\"/content/android-ndk-r22b/toolchains/llvm/prebuilt/linux-x86_64/bin/armv7a-linux-androideabi-\" && \\\n",
        "cd zlib && make clean && make -j4 && make install"
      ],
      "metadata": {
        "colab": {
          "base_uri": "https://localhost:8080/"
        },
        "id": "CcqW9hQn4q_k",
        "outputId": "606222a3-a990-43f7-c73e-e4810bd1993b"
      },
      "execution_count": null,
      "outputs": [
        {
          "output_type": "stream",
          "name": "stdout",
          "text": [
            "rm -f *.o *.lo *~ \\\n",
            "   example minigzip examplesh minigzipsh \\\n",
            "   example64 minigzip64 \\\n",
            "   infcover \\\n",
            "   libz.* foo.gz so_locations \\\n",
            "   _match.s maketree contrib/infback9/*.o\n",
            "rm -rf objs\n",
            "rm -f *.gcda *.gcno *.gcov\n",
            "rm -f contrib/infback9/*.gcda contrib/infback9/*.gcno contrib/infback9/*.gcov\n",
            "/content/android-ndk-r22b/toolchains/llvm/prebuilt/linux-x86_64/bin/armv7a-linux-androideabi21-clang -I/content/android-ndk-r22b/toolchains/llvm/prebuilt/-x86_64/sysroot/usr/include --sysroot=/content/android-ndk-r22b/toolchains/llvm/prebuilt/-x86_64/sysroot -march=armv7-a -mfloat-abi=softfp -mfpu=neon -fPIC -DNO_FSEEKO -DNO_STRERROR -DNO_snprintf -DHAS_sprintf_void -DHAVE_HIDDEN -I. -c -o example.o test/example.c\n",
            "/content/android-ndk-r22b/toolchains/llvm/prebuilt/linux-x86_64/bin/armv7a-linux-androideabi21-clang -I/content/android-ndk-r22b/toolchains/llvm/prebuilt/-x86_64/sysroot/usr/include --sysroot=/content/android-ndk-r22b/toolchains/llvm/prebuilt/-x86_64/sysroot -march=armv7-a -mfloat-abi=softfp -mfpu=neon -fPIC -DNO_FSEEKO -DNO_STRERROR -DNO_snprintf -DHAS_sprintf_void -DHAVE_HIDDEN  -c -o adler32.o adler32.c\n",
            "/content/android-ndk-r22b/toolchains/llvm/prebuilt/linux-x86_64/bin/armv7a-linux-androideabi21-clang -I/content/android-ndk-r22b/toolchains/llvm/prebuilt/-x86_64/sysroot/usr/include --sysroot=/content/android-ndk-r22b/toolchains/llvm/prebuilt/-x86_64/sysroot -march=armv7-a -mfloat-abi=softfp -mfpu=neon -fPIC -DNO_FSEEKO -DNO_STRERROR -DNO_snprintf -DHAS_sprintf_void -DHAVE_HIDDEN  -c -o crc32.o crc32.c\n",
            "/content/android-ndk-r22b/toolchains/llvm/prebuilt/linux-x86_64/bin/armv7a-linux-androideabi21-clang -I/content/android-ndk-r22b/toolchains/llvm/prebuilt/-x86_64/sysroot/usr/include --sysroot=/content/android-ndk-r22b/toolchains/llvm/prebuilt/-x86_64/sysroot -march=armv7-a -mfloat-abi=softfp -mfpu=neon -fPIC -DNO_FSEEKO -DNO_STRERROR -DNO_snprintf -DHAS_sprintf_void -DHAVE_HIDDEN  -c -o deflate.o deflate.c\n",
            "In file included from test/example.c:8:\n",
            "In file included from ./zlib.h:34:\n",
            "\u001b[1m./zconf.h:450:14: \u001b[0m\u001b[0;1;31mfatal error: \u001b[0m\u001b[1m'sys/types.h' file not found\u001b[0m\n",
            "#    include <sys/types.h>      /* for off_t */\n",
            "\u001b[0;1;32m             ^~~~~~~~~~~~~\n",
            "\u001b[0m1 error generated.\n",
            "In file included from make: *** [Makefile:143: example.o] Error 1\n",
            "make: *** Waiting for unfinished jobs....\n",
            "In file included from crc32.c:30:\n",
            "In file included from ./zutil.h:adler32.c:22:\n",
            "8:\n",
            "In file included from ./zlib.h:In file included from ./zutil.h:22:\n",
            "In file included from ./zlib.h:34:\n",
            "\u001b[1m./zconf.h:450:14: \u001b[0m\u001b[0;1;31mfatal error: \u001b[0m\u001b[1m'sys/types.h' file not found\u001b[0m\n",
            "#    include <sys/types.h>      /* for off_t */\n",
            "\u001b[0;1;32m             ^~~~~~~~~~~~~\n",
            "\u001b[0m34:\n",
            "\u001b[1m./zconf.h:450:14: \u001b[0m\u001b[0;1;31mfatal error: \u001b[0m\u001b[1m'sys/types.h' file not found\u001b[0m\n",
            "#    include <sys/types.h>      /* for off_t */\n",
            "\u001b[0;1;32m             ^~~~~~~~~~~~~\n",
            "\u001b[0m1 error generated.\n",
            "In file included from deflate.c:52:\n",
            "In file included from ./deflate.h:16:\n",
            "In file included from ./zutil.h:22:\n",
            "In file included from ./zlib.h:34:\n",
            "\u001b[1m./zconf.h:450:14: \u001b[0m\u001b[0;1;31mfatal error: \u001b[0m\u001b[1m'sys/types.h' file not found\u001b[0m\n",
            "#    include <sys/types.h>      /* for off_t */\n",
            "\u001b[0;1;32m             ^~~~~~~~~~~~~\n",
            "\u001b[0mmake: *** [Makefile:156: adler32.o] Error 1\n",
            "1 error generated.\n",
            "make: *** [Makefile:159: crc32.o] Error 1\n",
            "1 error generated.\n",
            "make: *** [Makefile:162: deflate.o] Error 1\n"
          ]
        }
      ]
    },
    {
      "cell_type": "code",
      "source": [
        "!git clone --branch OpenSSL_1_1_0h https://github.com/openssl/openssl.git"
      ],
      "metadata": {
        "colab": {
          "base_uri": "https://localhost:8080/"
        },
        "id": "YtwOUFOlEGn4",
        "outputId": "90e50f1c-1cbd-49f0-9e4b-f12dc5e5d602"
      },
      "execution_count": null,
      "outputs": [
        {
          "output_type": "stream",
          "name": "stdout",
          "text": [
            "Cloning into 'openssl'...\n",
            "remote: Enumerating objects: 463295, done.\u001b[K\n",
            "remote: Total 463295 (delta 0), reused 0 (delta 0), pack-reused 463295\u001b[K\n",
            "Receiving objects: 100% (463295/463295), 216.50 MiB | 31.37 MiB/s, done.\n",
            "Resolving deltas: 100% (333813/333813), done.\n",
            "Note: switching to 'd4e4bd2a8163f355fa8a3884077eaec7adc75ff7'.\n",
            "\n",
            "You are in 'detached HEAD' state. You can look around, make experimental\n",
            "changes and commit them, and you can discard any commits you make in this\n",
            "state without impacting any branches by switching back to a branch.\n",
            "\n",
            "If you want to create a new branch to retain commits you create, you may\n",
            "do so (now or later) by using -c with the switch command. Example:\n",
            "\n",
            "  git switch -c <new-branch-name>\n",
            "\n",
            "Or undo this operation with:\n",
            "\n",
            "  git switch -\n",
            "\n",
            "Turn off this advice by setting config variable advice.detachedHead to false\n",
            "\n"
          ]
        }
      ]
    },
    {
      "cell_type": "markdown",
      "source": [
        "# Building v2\n"
      ],
      "metadata": {
        "id": "BXI9LbRxF2zP"
      }
    },
    {
      "cell_type": "code",
      "source": [
        "!curl https://www.openssl.org/source/openssl-1.1.1t.tar.gz --output openssl.tar.gz\n",
        "!tar -xvzf openssl.tar.gz"
      ],
      "metadata": {
        "id": "aZONYO2kF_2f"
      },
      "execution_count": null,
      "outputs": []
    },
    {
      "cell_type": "code",
      "source": [
        "!git clone --branch v1.42.0 https://github.com/nghttp2/nghttp2.git"
      ],
      "metadata": {
        "id": "Et2PfDEoHIm3"
      },
      "execution_count": null,
      "outputs": []
    },
    {
      "cell_type": "code",
      "source": [
        "!curl https://dl.google.com/android/repository/android-ndk-r21d-linux-x86_64.zip --output ndk.zip\n",
        "!unzip ndk.zip"
      ],
      "metadata": {
        "id": "tYla6kQiIv8e"
      },
      "execution_count": null,
      "outputs": []
    },
    {
      "cell_type": "code",
      "source": [
        "!git clone https://github.com/leenjewel/openssl_for_ios_and_android.git"
      ],
      "metadata": {
        "id": "IWFYU8AoJLrD"
      },
      "execution_count": null,
      "outputs": []
    },
    {
      "cell_type": "code",
      "source": [
        "!export ANDROID_NDK_ROOT=/content/android-ndk-r22b && \\\n",
        "export api=21 && \\\n",
        "cd /content/openssl_for_ios_and_android/tools && ./build-android-openssl.sh"
      ],
      "metadata": {
        "id": "_BebBABZNI4H"
      },
      "execution_count": null,
      "outputs": []
    },
    {
      "cell_type": "code",
      "source": [
        "!export ANDROID_NDK_ROOT=/content/android-ndk-r22b && \\\n",
        "export api=21 && \\\n",
        "cd /content/openssl_for_ios_and_android/tools && ./build-android-nghttp2.sh"
      ],
      "metadata": {
        "id": "3FQyb2OXQnRe"
      },
      "execution_count": null,
      "outputs": []
    },
    {
      "cell_type": "code",
      "source": [
        "!export ANDROID_NDK_ROOT=/content/android-ndk-r22b && \\\n",
        "export api=21 && \\\n",
        "cd /content/openssl_for_ios_and_android/tools && ./build-android-curl.sh"
      ],
      "metadata": {
        "id": "AAZGcLadQnxH"
      },
      "execution_count": null,
      "outputs": []
    },
    {
      "cell_type": "code",
      "source": [
        "!export ANDROID_NDK_ROOT=/content/android-ndk-r22b && \\\n",
        "export api=21 && \\\n",
        "cd /content/openssl_for_ios_and_android/tools/nghttp2-1.42.0 && \\\n",
        "./configure \\\n",
        "  --host=arm-linux-androideabi \\\n",
        "  --prefix=/content/openssl_for_ios_and_android/output/android/nghttp2-armeabi-v7a \\\n",
        "  --disable-app \\\n",
        "  --disable-threads \\\n",
        "  --enable-lib-only"
      ],
      "metadata": {
        "id": "VCMe8HMxlKW5"
      },
      "execution_count": null,
      "outputs": []
    },
    {
      "cell_type": "code",
      "source": [
        "!export ANDROID_NDK_ROOT=/content/android-ndk-r22b && \\\n",
        "export api=21 && \\\n",
        "cd /content/openssl_for_ios_and_android/tools/nghttp2-1.42.0 && \\\n",
        "make clean && make -j2 && make install"
      ],
      "metadata": {
        "id": "QvWdromLl1Qv"
      },
      "execution_count": null,
      "outputs": []
    },
    {
      "cell_type": "code",
      "source": [
        "!export ANDROID_NDK_ROOT=/content/android-ndk-r22b && \\\n",
        "export api=21 && \\\n",
        "cd /content/openssl_for_ios_and_android/tools/curl-7.74.0 && \\\n",
        "./configure \\\n",
        "  --host=arm-linux-androideabi \\\n",
        "  --prefix=/content/openssl_for_ios_and_android/output/android/curl-armeabi-v7a \\\n",
        "  --enable-ipv6 \\\n",
        "  --with-ssl=/content/openssl_for_ios_and_android/output/android/openssl-armeabi-v7a \\\n",
        "  --with-nghttp2=/content/openssl_for_ios_and_android/output/android/nghttp2-armeabi-v7a\n"
      ],
      "metadata": {
        "id": "GR1sqLywngtX"
      },
      "execution_count": null,
      "outputs": []
    },
    {
      "cell_type": "code",
      "source": [
        "!export ANDROID_NDK_ROOT=/content/android-ndk-r22b && \\\n",
        "export api=21 && \\\n",
        "cd /content/openssl_for_ios_and_android/tools/curl-7.74.0 && \\\n",
        "make clean && make -j2 && make install"
      ],
      "metadata": {
        "id": "AdnZzT6WoTFD"
      },
      "execution_count": null,
      "outputs": []
    },
    {
      "cell_type": "code",
      "source": [
        "!sudo apt install libgl-dev libglu-dev libglib2.0-dev libsm-dev libxrender-dev libfontconfig1-dev libxext-dev"
      ],
      "metadata": {
        "id": "Xn8UbwyGpH11"
      },
      "execution_count": null,
      "outputs": []
    }
  ]
}